{
 "cells": [
  {
   "cell_type": "code",
   "execution_count": 1,
   "id": "7f1f6fe3-3fc8-41e0-b73b-9318e2698d75",
   "metadata": {},
   "outputs": [],
   "source": [
    "#function (kod bloklari) "
   ]
  },
  {
   "cell_type": "code",
   "execution_count": 2,
   "id": "7ecf65ff-cccc-4092-b62c-982267644f5a",
   "metadata": {},
   "outputs": [],
   "source": [
    "#fonksiyonu def fonksiyonuyla yazariz ve fonksiyonun adini yazariz ve parantezler () :"
   ]
  },
  {
   "cell_type": "code",
   "execution_count": 3,
   "id": "e8d8cf30-de22-4ccf-8452-6a36221826c9",
   "metadata": {},
   "outputs": [],
   "source": [
    "def hello_python():\n",
    "    print(\"hello\")\n",
    "    print(\"python\")  #fonksiyonu tanimladin\n",
    "    "
   ]
  },
  {
   "cell_type": "code",
   "execution_count": 4,
   "id": "f4ab8b70-ddec-4874-be79-e6e2817b623f",
   "metadata": {},
   "outputs": [
    {
     "name": "stdout",
     "output_type": "stream",
     "text": [
      "hello\n",
      "python\n"
     ]
    }
   ],
   "source": [
    "hello_python() #fonksiyonu cagirdin ve printler calisti herhangi bi degisken gelmedi. fonksiyon henuz calismadi bu sadece tanimi"
   ]
  },
  {
   "cell_type": "code",
   "execution_count": 5,
   "id": "68f781c6-4af8-47ea-9c9d-370fbf0eff3c",
   "metadata": {},
   "outputs": [],
   "source": [
    "#input"
   ]
  },
  {
   "cell_type": "code",
   "execution_count": 6,
   "id": "ca0066ac-e4ac-4fe8-9f70-0e139231ccbc",
   "metadata": {},
   "outputs": [],
   "source": [
    "def hello_name(name):\n",
    "    print(\"hello\")\n",
    "    print(name)#parantezin icine bisiler yazman input gorevi goruyor bir degisken istedigini anlatir"
   ]
  },
  {
   "cell_type": "code",
   "execution_count": 7,
   "id": "bc3dabe6-4816-4748-9b72-ecff0c178646",
   "metadata": {},
   "outputs": [
    {
     "name": "stdout",
     "output_type": "stream",
     "text": [
      "hello\n",
      "ece\n"
     ]
    }
   ],
   "source": [
    "hello_name(\"ece\")"
   ]
  },
  {
   "cell_type": "code",
   "execution_count": 8,
   "id": "cf36e26e-6b2d-4d6f-81b9-9c1764008daf",
   "metadata": {},
   "outputs": [],
   "source": [
    "def sum_example(num1,num2):\n",
    "    print(num1+num2)"
   ]
  },
  {
   "cell_type": "code",
   "execution_count": 9,
   "id": "792f7777-3dc7-4ea7-a4b9-0c9fb8e781ba",
   "metadata": {},
   "outputs": [
    {
     "name": "stdout",
     "output_type": "stream",
     "text": [
      "15\n"
     ]
    }
   ],
   "source": [
    "sum_example(5,10)"
   ]
  },
  {
   "cell_type": "code",
   "execution_count": 10,
   "id": "2676c575-4ff4-4360-825c-91f9f7e57dbe",
   "metadata": {},
   "outputs": [
    {
     "data": {
      "text/plain": [
       "<function __main__.sum_example(num1, num2)>"
      ]
     },
     "execution_count": 10,
     "metadata": {},
     "output_type": "execute_result"
    }
   ],
   "source": [
    "sum_example"
   ]
  },
  {
   "cell_type": "code",
   "execution_count": 11,
   "id": "4a839c77-1ce6-46e8-bbbc-2a2bfb253fd9",
   "metadata": {},
   "outputs": [
    {
     "data": {
      "text/plain": [
       "function"
      ]
     },
     "execution_count": 11,
     "metadata": {},
     "output_type": "execute_result"
    }
   ],
   "source": [
    "type(sum_example)"
   ]
  },
  {
   "cell_type": "code",
   "execution_count": 12,
   "id": "9e363617-b3b0-4d6f-ab40-5d03ff5f63fe",
   "metadata": {},
   "outputs": [],
   "source": [
    "def sum_example(num1,num2,):\n",
    "    num3 = num1+num2\n",
    "    print(num3)\n",
    "  "
   ]
  },
  {
   "cell_type": "code",
   "execution_count": 13,
   "id": "da399343-04db-41ab-810a-554fe01e14ad",
   "metadata": {},
   "outputs": [
    {
     "name": "stdout",
     "output_type": "stream",
     "text": [
      "32\n"
     ]
    }
   ],
   "source": [
    "sum_example(20,12)"
   ]
  },
  {
   "cell_type": "code",
   "execution_count": 14,
   "id": "9ad863f9-cf6a-4348-9fa0-68a17d8132a8",
   "metadata": {},
   "outputs": [
    {
     "name": "stdout",
     "output_type": "stream",
     "text": [
      "hello\n",
      "required\n"
     ]
    }
   ],
   "source": [
    "hello_name(\"required\")"
   ]
  },
  {
   "cell_type": "code",
   "execution_count": 15,
   "id": "75134ed4-cb9b-40f6-8c39-b512140985ac",
   "metadata": {},
   "outputs": [],
   "source": [
    "def hello_surname(surname = \"ece\"):\n",
    "    print(\"hello\")\n",
    "    print(surname)"
   ]
  },
  {
   "cell_type": "code",
   "execution_count": 16,
   "id": "eb45e9b1-f243-4962-8587-213f95e1655c",
   "metadata": {},
   "outputs": [
    {
     "name": "stdout",
     "output_type": "stream",
     "text": [
      "hello\n",
      "ece\n"
     ]
    }
   ],
   "source": [
    "hello_surname()"
   ]
  },
  {
   "cell_type": "code",
   "execution_count": 17,
   "id": "fca77948-9f14-46e6-a5be-d0077ff90bc8",
   "metadata": {},
   "outputs": [],
   "source": [
    "#return"
   ]
  },
  {
   "cell_type": "code",
   "execution_count": 18,
   "id": "06f8671f-619e-472b-8e18-900f12997681",
   "metadata": {},
   "outputs": [],
   "source": [
    "def summation(num1,num2,num3):\n",
    "    print(num1+num2+num3)"
   ]
  },
  {
   "cell_type": "code",
   "execution_count": 19,
   "id": "24c7395d-ee35-4f59-adbf-e57658aa1c05",
   "metadata": {},
   "outputs": [
    {
     "name": "stdout",
     "output_type": "stream",
     "text": [
      "20\n"
     ]
    }
   ],
   "source": [
    "summation(10,2,8)"
   ]
  },
  {
   "cell_type": "code",
   "execution_count": 20,
   "id": "45709e80-9245-406b-a24c-bc6189d8a529",
   "metadata": {},
   "outputs": [
    {
     "name": "stdout",
     "output_type": "stream",
     "text": [
      "20\n"
     ]
    }
   ],
   "source": [
    "x = summation(10,2,8)"
   ]
  },
  {
   "cell_type": "raw",
   "id": "e3935b30-ac88-4c2b-bc6b-301d894b3689",
   "metadata": {},
   "source": [
    "x"
   ]
  },
  {
   "cell_type": "raw",
   "id": "57283679-db7f-47e5-aa90-1c862d868436",
   "metadata": {},
   "source": [
    "print(x)"
   ]
  },
  {
   "cell_type": "code",
   "execution_count": 21,
   "id": "722d4e09-c2a8-4281-a308-d9bb71c87add",
   "metadata": {},
   "outputs": [
    {
     "data": {
      "text/plain": [
       "NoneType"
      ]
     },
     "execution_count": 21,
     "metadata": {},
     "output_type": "execute_result"
    }
   ],
   "source": [
    "type(x)"
   ]
  },
  {
   "cell_type": "code",
   "execution_count": 22,
   "id": "d2f58c52-a6ee-4f97-9c87-d56f3e11235d",
   "metadata": {},
   "outputs": [],
   "source": [
    "def return_summation(num1,num2,num3):\n",
    "    return num1+num2+num3"
   ]
  },
  {
   "cell_type": "code",
   "execution_count": 23,
   "id": "35b5933d-5166-458c-bd21-bf71a3db5759",
   "metadata": {},
   "outputs": [],
   "source": [
    "x = return_summation(10,2,8)"
   ]
  },
  {
   "cell_type": "code",
   "execution_count": 24,
   "id": "0c588401-6af5-4339-bf9f-517d56c48f70",
   "metadata": {},
   "outputs": [
    {
     "data": {
      "text/plain": [
       "20"
      ]
     },
     "execution_count": 24,
     "metadata": {},
     "output_type": "execute_result"
    }
   ],
   "source": [
    "x"
   ]
  },
  {
   "cell_type": "code",
   "execution_count": 25,
   "id": "b998149a-d854-483e-be13-b5da1a57ddfb",
   "metadata": {},
   "outputs": [
    {
     "data": {
      "text/plain": [
       "int"
      ]
     },
     "execution_count": 25,
     "metadata": {},
     "output_type": "execute_result"
    }
   ],
   "source": [
    "type(x)"
   ]
  },
  {
   "cell_type": "code",
   "execution_count": 26,
   "id": "512dee19-af7a-4a1d-8854-18c9b84b4b37",
   "metadata": {},
   "outputs": [],
   "source": [
    "def control_string(s):\n",
    "    if s[0] == \"a\":\n",
    "        print(\"a\")"
   ]
  },
  {
   "cell_type": "code",
   "execution_count": 27,
   "id": "e320f270-90e7-40f5-a1e1-1e0065a149ee",
   "metadata": {},
   "outputs": [
    {
     "name": "stdout",
     "output_type": "stream",
     "text": [
      "a\n"
     ]
    }
   ],
   "source": [
    "control_string(\"ali\")"
   ]
  },
  {
   "cell_type": "code",
   "execution_count": 28,
   "id": "c6b92a85-ddad-4181-99b3-5141d1d60fb7",
   "metadata": {},
   "outputs": [
    {
     "name": "stdout",
     "output_type": "stream",
     "text": [
      "a\n"
     ]
    }
   ],
   "source": [
    "control_string(\"aylin\")"
   ]
  },
  {
   "cell_type": "code",
   "execution_count": 29,
   "id": "c025c615-ed47-4780-bc4d-1a4d9a9cb091",
   "metadata": {},
   "outputs": [],
   "source": [
    "#arg and #kwarg (arguments, key word arguments) s gibi num1 gibi argumanlar)"
   ]
  },
  {
   "cell_type": "code",
   "execution_count": 30,
   "id": "32e38ee9-eb53-44d7-bd68-7ae252eadff7",
   "metadata": {},
   "outputs": [],
   "source": [
    "def args_sum(*args):\n",
    "    return sum(args)"
   ]
  },
  {
   "cell_type": "code",
   "execution_count": 31,
   "id": "6458d7e3-ddc9-4c4f-8e15-d2bf0de34fb0",
   "metadata": {},
   "outputs": [
    {
     "data": {
      "text/plain": [
       "150"
      ]
     },
     "execution_count": 31,
     "metadata": {},
     "output_type": "execute_result"
    }
   ],
   "source": [
    "args_sum(10,20,30,40,50)"
   ]
  },
  {
   "cell_type": "code",
   "execution_count": 32,
   "id": "3025be7e-675f-4978-9582-cd74fb8edabb",
   "metadata": {},
   "outputs": [],
   "source": [
    "def args_example(*args):\n",
    "    return sum(args)"
   ]
  },
  {
   "cell_type": "code",
   "execution_count": 33,
   "id": "0a94611a-19f0-417d-8fc5-744c6bc4968b",
   "metadata": {},
   "outputs": [
    {
     "data": {
      "text/plain": [
       "103725"
      ]
     },
     "execution_count": 33,
     "metadata": {},
     "output_type": "execute_result"
    }
   ],
   "source": [
    "args_example(10,20,30,103665)"
   ]
  },
  {
   "cell_type": "code",
   "execution_count": 62,
   "id": "05c0079e-45dd-4724-8622-585103fed1bc",
   "metadata": {},
   "outputs": [],
   "source": [
    "def kwargs_example (**kwargs):\n",
    "    print(kwargs)"
   ]
  },
  {
   "cell_type": "code",
   "execution_count": 64,
   "id": "89424ddf-a8da-4c29-a787-91bd16a4c31c",
   "metadata": {},
   "outputs": [
    {
     "name": "stdout",
     "output_type": "stream",
     "text": [
      "{'apple': 100, 'banana': 50, 'melon': 200}\n"
     ]
    }
   ],
   "source": [
    "kwargs_example(apple=100,banana=50,melon=200)"
   ]
  },
  {
   "cell_type": "code",
   "execution_count": 66,
   "id": "7f08e868-a8e3-4ab0-8182-4bc18b5a1877",
   "metadata": {},
   "outputs": [],
   "source": [
    "def kwargs_example2 (**kwargs):\n",
    "    if \"apple\" in kwargs:\n",
    "        print(\"appleeee\")\n",
    "    else:\n",
    "        print(\":(\")"
   ]
  },
  {
   "cell_type": "code",
   "execution_count": 70,
   "id": "47d2b5dc-0d81-4d6a-b25f-f128f406e972",
   "metadata": {},
   "outputs": [
    {
     "name": "stdout",
     "output_type": "stream",
     "text": [
      ":(\n"
     ]
    }
   ],
   "source": [
    "kwargs_example2()"
   ]
  },
  {
   "cell_type": "code",
   "execution_count": 72,
   "id": "b1ea282c-04f3-4cd3-9d4e-e14173392d06",
   "metadata": {},
   "outputs": [
    {
     "name": "stdout",
     "output_type": "stream",
     "text": [
      "appleeee\n"
     ]
    }
   ],
   "source": [
    "kwargs_example2(apple =10,banana = 20)"
   ]
  },
  {
   "cell_type": "code",
   "execution_count": null,
   "id": "0c939363-f27d-46f6-a92c-ed602ea210c1",
   "metadata": {},
   "outputs": [],
   "source": []
  }
 ],
 "metadata": {
  "kernelspec": {
   "display_name": "Python 3 (ipykernel)",
   "language": "python",
   "name": "python3"
  },
  "language_info": {
   "codemirror_mode": {
    "name": "ipython",
    "version": 3
   },
   "file_extension": ".py",
   "mimetype": "text/x-python",
   "name": "python",
   "nbconvert_exporter": "python",
   "pygments_lexer": "ipython3",
   "version": "3.12.7"
  }
 },
 "nbformat": 4,
 "nbformat_minor": 5
}
